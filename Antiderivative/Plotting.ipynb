{
 "cells": [
  {
   "cell_type": "code",
   "execution_count": 1,
   "metadata": {},
   "outputs": [],
   "source": [
    "import jax.numpy as np\n",
    "from jax import random, grad, vmap, jit\n",
    "from jax.experimental.ode import odeint\n",
    "from jax.config import config\n",
    "\n",
    "\n",
    "import matplotlib\n",
    "import matplotlib.pyplot as plt\n",
    "import numpy as onp\n"
   ]
  },
  {
   "cell_type": "code",
   "execution_count": 2,
   "metadata": {},
   "outputs": [],
   "source": [
    "plt.rcParams.update(plt.rcParamsDefault)\n",
    "plt.rc('font', family='serif')\n",
    "plt.rcParams.update({\n",
    "                      \"text.usetex\": True,\n",
    "                      \"font.family\": \"serif\",\n",
    "                     'text.latex.preamble': r'\\usepackage{amsmath}',\n",
    "                      'font.size': 16,\n",
    "                      'lines.linewidth': 3,\n",
    "                      'axes.labelsize': 16, \n",
    "                      'axes.titlesize': 16,\n",
    "                      'xtick.labelsize': 16,\n",
    "                      'ytick.labelsize': 16,\n",
    "                      'legend.fontsize': 16,\n",
    "                      'axes.linewidth': 2})"
   ]
  },
  {
   "cell_type": "code",
   "execution_count": null,
   "metadata": {},
   "outputs": [],
   "source": []
  },
  {
   "cell_type": "code",
   "execution_count": 3,
   "metadata": {},
   "outputs": [
    {
     "name": "stderr",
     "output_type": "stream",
     "text": [
      "WARNING:absl:No GPU/TPU found, falling back to CPU. (Set TF_CPP_MIN_LOG_LEVEL=0 and rerun for more info.)\n"
     ]
    }
   ],
   "source": [
    "\n",
    "# Use double precision to generate data (due to GP sampling)\n",
    "config.update(\"jax_enable_x64\", True)\n",
    "\n",
    "# Training data\n",
    "N = 100\n",
    "m = 100 # number of input sensors\n",
    "P = 100   # number of output sensors\n",
    "K = 10\n",
    "Output_scales = np.linspace(-2, 2, K)  # K is the number of different output scales\n",
    "\n",
    "y_test = np.load(\"y_test.npy\")\n",
    "s_test = np.load(\"s_test.npy\")\n",
    "s_pred = np.load(\"s_pred.npy\")\n"
   ]
  },
  {
   "cell_type": "code",
   "execution_count": 4,
   "metadata": {},
   "outputs": [
    {
     "name": "stdout",
     "output_type": "stream",
     "text": [
      "(100000, 1) (100000, 1)\n"
     ]
    }
   ],
   "source": [
    "\n",
    "\n",
    "s_pred_mu, s_pred_std = np.mean(s_pred, axis = 0)[:,None], np.std(s_pred, axis = 0)[:,None]\n",
    "print(s_pred_mu.shape, s_pred_std.shape)\n",
    "\n",
    "\n",
    "\n",
    "# Plot a sample test example\n",
    "idx = 835\n",
    "index = np.arange(idx*P,(idx+1)*P)\n",
    "plt.figure()\n",
    "for k in range(1, 20):\n",
    "    plt.plot(y_test[index, :], s_pred[k,index], 'r--', lw=2)\n",
    "plt.plot(y_test[index, :], s_pred[0,index], 'r--', lw=2, label = \"Predicted sample\")\n",
    "plt.plot(y_test[index, :], s_test[index, :], 'b-', lw=2, label = \"Exact\")\n",
    "plt.plot(y_test[index, :], s_pred_mu[index, :], 'k--', lw=2, label = \"Predicted mean\")\n",
    "plt.legend(loc='upper right', frameon=False, prop={'size': 13})\n",
    "plt.xlabel('y')\n",
    "plt.ylabel('G(u)(y)')\n",
    "plt.tight_layout()\n",
    "plt.savefig('./Samples.png', dpi = 300)\n",
    "\n",
    "\n",
    "# Compute the errors and the uncertainty\n",
    "s_pred_mu, s_pred_std\n",
    "\n",
    "N_test_total = s_pred_mu.shape[0] // P\n",
    "N_test = N_test_total // K \n",
    "\n",
    "errors = onp.zeros((K, N_test))\n",
    "uncertainty = onp.zeros((K, N_test))\n",
    "\n",
    "for idx in range(N_test_total):\n",
    "    id1 = idx // N_test\n",
    "    id2 = idx - id1 * N_test\n",
    "    index = np.arange(idx*P,(idx+1)*P)\n",
    "    s_pred_sample = s_pred_mu[index,:]\n",
    "    s_pred_uncertainty = s_pred_std[index,:]\n",
    "    s_test_sample = s_test[index,:]\n",
    "\n",
    "    # print(id1, id2, s_pred_sample.shape, s_test_sample.shape, s_pred_uncertainty.shape)\n",
    "\n",
    "    errors[id1, id2] = np.linalg.norm(s_pred_sample - s_test_sample, 2) / np.linalg.norm(s_test_sample, 2) \n",
    "    uncertainty[id1, id2] = np.linalg.norm(s_pred_uncertainty, 2) / np.linalg.norm(s_test_sample, 2)\n",
    "\n",
    "plt.figure()\n",
    "plt.errorbar(Output_scales, errors.mean(axis = 1), yerr=errors.std(axis = 1), fmt='.k')\n",
    "plt.errorbar(Output_scales, uncertainty.mean(axis = 1), fmt='r-')\n",
    "plt.savefig('./error_vs_uncertainty.png', dpi = 300)\n",
    "\n",
    "\n",
    "np.save(\"errors_normed.npy\", errors)\n",
    "np.save(\"uncertainty_normed.npy\", uncertainty)\n"
   ]
  },
  {
   "cell_type": "code",
   "execution_count": null,
   "metadata": {},
   "outputs": [],
   "source": []
  },
  {
   "cell_type": "code",
   "execution_count": 5,
   "metadata": {},
   "outputs": [],
   "source": [
    "\n",
    "\n",
    "# Plot different samples from different output scales\n",
    "idxs = [30, 130, 230, 330, 430, 530, 630, 730, 830, 930]\n",
    "\n",
    "for m in range(len(idxs)):\n",
    "\n",
    "    # Plot a sample 130 example\n",
    "    idx = idxs[m]\n",
    "    index = np.arange(idx*P,(idx+1)*P)\n",
    "    plt.figure()\n",
    "    for k in range(1, 20):\n",
    "        plt.plot(y_test[index, :], s_pred[k,index], 'r--', lw=2)\n",
    "    plt.plot(y_test[index, :], s_pred[0,index], 'r--', lw=2, label = \"Predicted sample\")\n",
    "    plt.plot(y_test[index, :], s_test[index, :], 'b-', lw=2, label = \"Exact\")\n",
    "    plt.plot(y_test[index, :], s_pred_mu[index, :], 'k--', lw=2, label = \"Predicted mean\")\n",
    "    plt.legend(loc='upper right', frameon=False, prop={'size': 13})\n",
    "    plt.xlabel('y')\n",
    "    plt.ylabel('G(u)(y)')\n",
    "    plt.tight_layout()\n",
    "    plt.savefig('./Samples' + str(idx) + '.png', dpi = 300)\n",
    "\n"
   ]
  },
  {
   "cell_type": "code",
   "execution_count": null,
   "metadata": {},
   "outputs": [],
   "source": []
  },
  {
   "cell_type": "code",
   "execution_count": 2,
   "metadata": {},
   "outputs": [
    {
     "name": "stderr",
     "output_type": "stream",
     "text": [
      "WARNING:absl:No GPU/TPU found, falling back to CPU. (Set TF_CPP_MIN_LOG_LEVEL=0 and rerun for more info.)\n"
     ]
    },
    {
     "data": {
      "text/plain": [
       "DeviceArray(0.04996318, dtype=float32)"
      ]
     },
     "execution_count": 2,
     "metadata": {},
     "output_type": "execute_result"
    }
   ],
   "source": [
    "errors = np.load(\"errors_normed.npy\")\n",
    "\n",
    "np.max(errors)"
   ]
  },
  {
   "cell_type": "code",
   "execution_count": null,
   "metadata": {},
   "outputs": [],
   "source": []
  }
 ],
 "metadata": {
  "kernelspec": {
   "display_name": "Python 3",
   "language": "python",
   "name": "python3"
  },
  "language_info": {
   "codemirror_mode": {
    "name": "ipython",
    "version": 3
   },
   "file_extension": ".py",
   "mimetype": "text/x-python",
   "name": "python",
   "nbconvert_exporter": "python",
   "pygments_lexer": "ipython3",
   "version": "3.7.3"
  }
 },
 "nbformat": 4,
 "nbformat_minor": 2
}
