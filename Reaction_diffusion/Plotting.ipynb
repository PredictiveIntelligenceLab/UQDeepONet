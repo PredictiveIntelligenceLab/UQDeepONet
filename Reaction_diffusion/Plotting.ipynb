{
 "cells": [
  {
   "cell_type": "code",
   "execution_count": 1,
   "metadata": {},
   "outputs": [],
   "source": [
    "import jax.numpy as np\n",
    "from jax import random, grad, vmap, jit\n",
    "from jax.config import config\n",
    "\n",
    "import numpy as onp\n",
    "\n",
    "import matplotlib\n",
    "\n",
    "import matplotlib.pyplot as plt\n",
    "\n",
    "import scipy.io\n",
    "from scipy.interpolate import griddata\n"
   ]
  },
  {
   "cell_type": "code",
   "execution_count": 2,
   "metadata": {},
   "outputs": [
    {
     "name": "stderr",
     "output_type": "stream",
     "text": [
      "WARNING:absl:No GPU/TPU found, falling back to CPU. (Set TF_CPP_MIN_LOG_LEVEL=0 and rerun for more info.)\n"
     ]
    },
    {
     "name": "stdout",
     "output_type": "stream",
     "text": [
      "shape of training data (1000, 100) (1000, 100, 100)\n",
      "shape of testing data (1000, 100) (1000, 100, 100)\n"
     ]
    }
   ],
   "source": [
    "plt.rcParams.update(plt.rcParamsDefault)\n",
    "plt.rc('font', family='serif')\n",
    "plt.rcParams.update({\n",
    "                      \"text.usetex\": True,\n",
    "                      \"font.family\": \"serif\",\n",
    "                     'text.latex.preamble': r'\\usepackage{amsmath}',\n",
    "                      'font.size': 16,\n",
    "                      'lines.linewidth': 3,\n",
    "                      'axes.labelsize': 20, \n",
    "                      'axes.titlesize': 16,\n",
    "                      'xtick.labelsize': 16,\n",
    "                      'ytick.labelsize': 16,\n",
    "                      'legend.fontsize': 16,\n",
    "                      'axes.linewidth': 2})\n",
    "\n",
    "\n",
    "\n",
    "# Load the training data\n",
    "\n",
    "usol = np.load(\"usol.npy\")\n",
    "usol = np.array(usol)\n",
    "\n",
    "u_initial = np.load(\"u.npy\")\n",
    "u_initial = np.array(u_initial)\n",
    "\n",
    "N = usol.shape[0]  # number of total input samples\n",
    "N_train =1000      # number of input samples used for training\n",
    "N_test = N - N_train  # number of input samples used for test\n",
    "\n",
    "# Resolution of the solution\n",
    "Nx = 100\n",
    "Nt = 100\n",
    "m = Nx            # number of sensors for input samples\n",
    "P = 100       # resolution of uniform grid for the data\n",
    "\n",
    "u0_train = u_initial[:N_train,:]   # input samples\n",
    "usol_train = usol[:N_train,:,:]\n",
    "\n",
    "u0_test = u_initial[N_train:N,:]   # input samples\n",
    "usol_test = usol[N_train:N,:,:]\n",
    "\n",
    "print(\"shape of training data\", u0_train.shape, usol_train.shape)\n",
    "print(\"shape of testing data\", u0_test.shape, usol_test.shape)\n"
   ]
  },
  {
   "cell_type": "code",
   "execution_count": 3,
   "metadata": {},
   "outputs": [
    {
     "name": "stdout",
     "output_type": "stream",
     "text": [
      "(1000, 100, 100) (1000, 100, 100) (1000, 1)\n"
     ]
    }
   ],
   "source": [
    "Predict_mu_save = np.load(\"Predict_mu_save.npy\")\n",
    "Predict_std_save = np.load(\"Predict_std_save.npy\")\n",
    "errors = np.load(\"normed_errors.npy\")\n",
    "\n",
    "print(Predict_mu_save.shape, Predict_std_save.shape, errors.shape)"
   ]
  },
  {
   "cell_type": "code",
   "execution_count": 4,
   "metadata": {},
   "outputs": [],
   "source": [
    "uncertainty = onp.zeros_like(errors)"
   ]
  },
  {
   "cell_type": "code",
   "execution_count": null,
   "metadata": {},
   "outputs": [],
   "source": []
  },
  {
   "cell_type": "code",
   "execution_count": 5,
   "metadata": {},
   "outputs": [],
   "source": [
    "idxs = [30, 130, 230, 330, 430, 530, 630, 730, 830, 930]\n",
    "t = np.linspace(0, 1, P)\n",
    "x = np.linspace(0, 1, P)\n",
    "T, X = np.meshgrid(t, x)\n",
    "\n",
    "\n",
    "for k in range(N_test):\n",
    "\n",
    "    idx = k + N_train\n",
    "    u = usol[idx,:, :]\n",
    "\n",
    "    y_test_sample = np.hstack([T.flatten()[:,None], X.flatten()[:,None]])\n",
    "    s_test_sample = u.flatten()[:,None]\n",
    "\n",
    "\n",
    "    S_pred_sample_mu = Predict_mu_save[k,:,:]\n",
    "    S_pred_sample_std = Predict_std_save[k,:,:]\n",
    "\n",
    "    uncertainty[k,0] = np.linalg.norm(S_pred_sample_std, 2) / np.linalg.norm(u, 2)\n",
    "    \n",
    "    if k in idxs:\n",
    "\n",
    "        fig = plt.figure(figsize=(12,9))\n",
    "        plt.subplot(2,2,1)\n",
    "        plt.pcolor(T, X, u, cmap='jet')\n",
    "        plt.xlabel('$x$')\n",
    "        plt.ylabel('$t$')\n",
    "        plt.title('Exact $s(x,t)$')\n",
    "        plt.colorbar()\n",
    "        plt.tight_layout()\n",
    "\n",
    "        plt.subplot(2,2,2)\n",
    "        plt.pcolor(T, X, S_pred_sample_mu, cmap='jet')\n",
    "        plt.xlabel('$x$')\n",
    "        plt.ylabel('$t$')\n",
    "        plt.title('Predictive mean of $s(x,t)$')\n",
    "        plt.colorbar()\n",
    "        plt.tight_layout()\n",
    "\n",
    "        plt.subplot(2,2,3)\n",
    "        plt.pcolor(T, X, np.abs(S_pred_sample_mu - u), cmap='jet')\n",
    "        plt.xlabel('$x$')\n",
    "        plt.ylabel('$t$')\n",
    "        plt.title('Absolute error')\n",
    "        plt.colorbar()\n",
    "        plt.tight_layout()\n",
    "\n",
    "        plt.subplot(2,2,4)\n",
    "        plt.pcolor(T, X, S_pred_sample_std, cmap='jet')\n",
    "        plt.xlabel('$x$')\n",
    "        plt.ylabel('$t$')\n",
    "        plt.title('Predictive uncertainty of $s(x,t)$')\n",
    "        plt.colorbar()\n",
    "        plt.tight_layout()\n",
    "        plt.savefig('./normed_testing_Samples' + str(idx) + '.png', dpi = 300)\n",
    "        \n",
    "        \n",
    "        fig = plt.figure(figsize=(15,4))\n",
    "        plt.subplot(1,3,1)\n",
    "        plt.plot(x,u[25,:], 'b-', linewidth = 2, label = 'Exact')       \n",
    "        plt.plot(x,S_pred_sample_mu[25,:], 'r--', linewidth = 2, label = 'Prediction')\n",
    "        lower = S_pred_sample_mu[25,:] - 2.0*S_pred_sample_std[25,:]\n",
    "        upper = S_pred_sample_mu[25,:] + 2.0*S_pred_sample_std[25,:]\n",
    "        plt.fill_between(x.flatten(), lower.flatten(), upper.flatten(), \n",
    "                        facecolor='orange', alpha=0.5, label=\"Two std band\")\n",
    "        plt.xlabel('$x$')\n",
    "        plt.ylabel('$s(x)$')  \n",
    "        plt.title('$t = 0.25$')\n",
    "        # ax.set_xlim([-0.1,1.1])\n",
    "        # ax.set_ylim([-1.1,1.1])\n",
    "\n",
    "        plt.subplot(1,3,2)\n",
    "        plt.plot(x,u[50,:], 'b-', linewidth = 2, label = 'Exact')       \n",
    "        plt.plot(x,S_pred_sample_mu[50,:], 'r--', linewidth = 2, label = 'Prediction')\n",
    "        lower = S_pred_sample_mu[50,:] - 2.0*S_pred_sample_std[50,:]\n",
    "        upper = S_pred_sample_mu[50,:] + 2.0*S_pred_sample_std[50,:]\n",
    "        plt.fill_between(x.flatten(), lower.flatten(), upper.flatten(), \n",
    "                        facecolor='orange', alpha=0.5, label=\"Two std band\")\n",
    "        plt.xlabel('$x$')\n",
    "        plt.ylabel('$s(x)$')\n",
    "        # ax.set_xlim([-0.1,1.1])\n",
    "        # ax.set_ylim([-1.1,1.1])\n",
    "        plt.title('$t = 0.50$')\n",
    "        plt.legend(loc='upper center', bbox_to_anchor=(0.5, -0.35), ncol=5, frameon=False)\n",
    "\n",
    "        plt.subplot(1,3,3)\n",
    "        plt.plot(x,u[75,:], 'b-', linewidth = 2, label = 'Exact')       \n",
    "        plt.plot(x,S_pred_sample_mu[75,:], 'r--', linewidth = 2, label = 'Prediction')\n",
    "        lower = S_pred_sample_mu[75,:] - 2.0*S_pred_sample_std[75,:]\n",
    "        upper = S_pred_sample_mu[75,:] + 2.0*S_pred_sample_std[75,:]\n",
    "        plt.fill_between(x.flatten(), lower.flatten(), upper.flatten(), \n",
    "                        facecolor='orange', alpha=0.5, label=\"Two std band\")\n",
    "        plt.xlabel('$x$')\n",
    "        plt.ylabel('$s(x)$')\n",
    "        # ax.set_xlim([-0.1,1.1])\n",
    "        # ax.set_ylim([-1.1,1.1])    \n",
    "        plt.title('$t = 0.75$')\n",
    "        plt.tight_layout(w_pad=-4.5)\n",
    "        plt.savefig('./normed_testing_slices' + str(idx) + '.png')\n"
   ]
  },
  {
   "cell_type": "code",
   "execution_count": 6,
   "metadata": {},
   "outputs": [
    {
     "name": "stdout",
     "output_type": "stream",
     "text": [
      "outlier index and error 360 0.05514690652489662\n"
     ]
    },
    {
     "name": "stderr",
     "output_type": "stream",
     "text": [
      "/usr/local/anaconda3/lib/python3.7/site-packages/ipykernel_launcher.py:16: RuntimeWarning: More than 20 figures have been opened. Figures created through the pyplot interface (`matplotlib.pyplot.figure`) are retained until explicitly closed and may consume too much memory. (To control this warning, see the rcParam `figure.max_open_warning`).\n",
      "  app.launch_new_instance()\n",
      "/usr/local/anaconda3/lib/python3.7/site-packages/ipykernel_launcher.py:51: RuntimeWarning: More than 20 figures have been opened. Figures created through the pyplot interface (`matplotlib.pyplot.figure`) are retained until explicitly closed and may consume too much memory. (To control this warning, see the rcParam `figure.max_open_warning`).\n"
     ]
    }
   ],
   "source": [
    "idx_max = np.argmax(errors)\n",
    "print(\"outlier index and error\", idx_max, errors[idx_max,0])\n",
    "idx = idx_max + N_train\n",
    "\n",
    "u = usol[idx,:, :]\n",
    "u0 = usol[idx,0,:]\n",
    "\n",
    "u_test_sample = np.tile(u0, (P**2, 1))\n",
    "y_test_sample = np.hstack([T.flatten()[:,None], X.flatten()[:,None]])\n",
    "s_test_sample = u.flatten()[:,None]\n",
    "\n",
    "S_pred_sample_mu = Predict_mu_save[idx_max,:,:]\n",
    "S_pred_sample_std = Predict_std_save[idx_max,:,:]\n",
    "\n",
    "\n",
    "fig = plt.figure(figsize=(12,9))\n",
    "plt.subplot(2,2,1)\n",
    "plt.pcolor(T, X, u, cmap='jet')\n",
    "plt.xlabel('$x$')\n",
    "plt.ylabel('$t$')\n",
    "plt.title('Exact $s(x,t)$')\n",
    "plt.colorbar()\n",
    "plt.tight_layout()\n",
    "\n",
    "plt.subplot(2,2,2)\n",
    "plt.pcolor(T, X, S_pred_sample_mu, cmap='jet')\n",
    "plt.xlabel('$x$')\n",
    "plt.ylabel('$t$')\n",
    "plt.title('Predictive mean of $s(x,t)$')\n",
    "plt.colorbar()\n",
    "plt.tight_layout()\n",
    "\n",
    "plt.subplot(2,2,3)\n",
    "plt.pcolor(T, X, np.abs(S_pred_sample_mu - u), cmap='jet')\n",
    "plt.xlabel('$x$')\n",
    "plt.ylabel('$t$')\n",
    "plt.title('Absolute error')\n",
    "plt.colorbar()\n",
    "plt.tight_layout()\n",
    "\n",
    "plt.subplot(2,2,4)\n",
    "plt.pcolor(T, X, S_pred_sample_std, cmap='jet')\n",
    "plt.xlabel('$x$')\n",
    "plt.ylabel('$t$')\n",
    "plt.title('Predictive uncertainty of $s(x,t)$')\n",
    "plt.colorbar()\n",
    "plt.tight_layout()\n",
    "plt.savefig('./normed_testing_Samples_max.png', dpi = 300)\n",
    "\n",
    "\n",
    "fig = plt.figure(figsize=(15,4))\n",
    "plt.subplot(1,3,1)\n",
    "plt.plot(x,u[25,:], 'b-', linewidth = 2, label = 'Exact')       \n",
    "plt.plot(x,S_pred_sample_mu[25,:], 'r--', linewidth = 2, label = 'Prediction')\n",
    "lower = S_pred_sample_mu[25,:] - 2.0*S_pred_sample_std[25,:]\n",
    "upper = S_pred_sample_mu[25,:] + 2.0*S_pred_sample_std[25,:]\n",
    "plt.fill_between(x.flatten(), lower.flatten(), upper.flatten(), \n",
    "                facecolor='orange', alpha=0.5, label=\"Two std band\")\n",
    "plt.xlabel('$x$')\n",
    "plt.ylabel('$s(x)$')  \n",
    "plt.title('$t = 0.25$')\n",
    "# ax.set_xlim([-0.1,1.1])\n",
    "# ax.set_ylim([-1.1,1.1])\n",
    "\n",
    "plt.subplot(1,3,2)\n",
    "plt.plot(x,u[50,:], 'b-', linewidth = 2, label = 'Exact')       \n",
    "plt.plot(x,S_pred_sample_mu[50,:], 'r--', linewidth = 2, label = 'Prediction')\n",
    "lower = S_pred_sample_mu[50,:] - 2.0*S_pred_sample_std[50,:]\n",
    "upper = S_pred_sample_mu[50,:] + 2.0*S_pred_sample_std[50,:]\n",
    "plt.fill_between(x.flatten(), lower.flatten(), upper.flatten(), \n",
    "                facecolor='orange', alpha=0.5, label=\"Two std band\")\n",
    "plt.xlabel('$x$')\n",
    "plt.ylabel('$s(x)$')\n",
    "# ax.set_xlim([-0.1,1.1])\n",
    "# ax.set_ylim([-1.1,1.1])\n",
    "plt.title('$t = 0.50$')\n",
    "plt.legend(loc='upper center', bbox_to_anchor=(0.7, -0.35), ncol=5, frameon=False)\n",
    "\n",
    "plt.subplot(1,3,3)\n",
    "plt.plot(x,u[75,:], 'b-', linewidth = 2, label = 'Exact')       \n",
    "plt.plot(x,S_pred_sample_mu[75,:], 'r--', linewidth = 2, label = 'Prediction')\n",
    "lower = S_pred_sample_mu[75,:] - 2.0*S_pred_sample_std[75,:]\n",
    "upper = S_pred_sample_mu[75,:] + 2.0*S_pred_sample_std[75,:]\n",
    "plt.fill_between(x.flatten(), lower.flatten(), upper.flatten(), \n",
    "                facecolor='orange', alpha=0.5, label=\"Two std band\")\n",
    "plt.xlabel('$x$')\n",
    "plt.ylabel('$s(x)$')\n",
    "# ax.set_xlim([-0.1,1.1])\n",
    "# ax.set_ylim([-1.1,1.1])    \n",
    "plt.title('$t = 0.75$')\n",
    "plt.tight_layout(w_pad=-7.5)\n",
    "plt.savefig('./normed_testing_slices_max.png')\n"
   ]
  },
  {
   "cell_type": "code",
   "execution_count": null,
   "metadata": {},
   "outputs": [],
   "source": []
  },
  {
   "cell_type": "code",
   "execution_count": 7,
   "metadata": {},
   "outputs": [
    {
     "name": "stderr",
     "output_type": "stream",
     "text": [
      "/usr/local/anaconda3/lib/python3.7/site-packages/ipykernel_launcher.py:1: RuntimeWarning: More than 20 figures have been opened. Figures created through the pyplot interface (`matplotlib.pyplot.figure`) are retained until explicitly closed and may consume too much memory. (To control this warning, see the rcParam `figure.max_open_warning`).\n",
      "  \"\"\"Entry point for launching an IPython kernel.\n"
     ]
    }
   ],
   "source": [
    "\n",
    "\n",
    "plt.figure(figsize=(6,5))\n",
    "plt.plot(errors[0], uncertainty[0], 'ro', alpha = 0.5, label = \"In distribution samples\")\n",
    "plt.plot(errors, uncertainty, 'ro', alpha = 0.5)\n",
    "plt.plot(errors[idx_max], uncertainty[idx_max], 'bo', alpha = 1, label = \"Out of distribution sample\") \n",
    "plt.legend(loc='upper left', frameon=False, prop={'size': 16})\n",
    "plt.xlabel('Error')\n",
    "plt.ylabel('Uncertainty')\n",
    "plt.tight_layout()\n",
    "plt.savefig('./Reaction_Error_vs_Uncertainty.png', dpi = 300)\n",
    "\n",
    "\n"
   ]
  },
  {
   "cell_type": "code",
   "execution_count": null,
   "metadata": {},
   "outputs": [],
   "source": []
  },
  {
   "cell_type": "code",
   "execution_count": 11,
   "metadata": {},
   "outputs": [
    {
     "name": "stderr",
     "output_type": "stream",
     "text": [
      "/usr/local/anaconda3/lib/python3.7/site-packages/ipykernel_launcher.py:22: RuntimeWarning: More than 20 figures have been opened. Figures created through the pyplot interface (`matplotlib.pyplot.figure`) are retained until explicitly closed and may consume too much memory. (To control this warning, see the rcParam `figure.max_open_warning`).\n"
     ]
    }
   ],
   "source": [
    "from scipy import stats\n",
    "\n",
    "######## Probability density kernel estimation ########\n",
    "xmin, xmax = errors.min(), errors.max()\n",
    "X_marginal_1 = np.linspace(xmin, xmax, 100)[:,None]\n",
    "positions_marginal_1 = X_marginal_1.flatten()\n",
    "values_marginal_1 = errors.flatten()\n",
    "gkde = stats.gaussian_kde(values_marginal_1)\n",
    "KDE_marginal_1 = gkde.evaluate(positions_marginal_1)\n",
    "\n",
    "\n",
    "xmin, xmax = uncertainty.min(), uncertainty.max()\n",
    "X_marginal_3 = np.linspace(xmin, xmax, 100)[:,None]\n",
    "positions_marginal_3 = X_marginal_3.flatten()\n",
    "values_marginal_3 = uncertainty.flatten()\n",
    "gkde = stats.gaussian_kde(values_marginal_3)\n",
    "KDE_marginal_3 = gkde.evaluate(positions_marginal_3)\n",
    "\n",
    "\n",
    "    \n",
    "\n",
    "plt.figure(figsize=(6,5))\n",
    "plt.hist(errors, bins = 100, density=True, alpha = 0.6, color='blue')\n",
    "plt.hist(uncertainty, bins = 100, density=True, alpha = 0.6, color='red')\n",
    "plt.plot(X_marginal_1, KDE_marginal_1, 'b-', label = 'Error')\n",
    "plt.plot(X_marginal_3, KDE_marginal_3, 'r-', label = 'Uncertainty')\n",
    "plt.xlabel('Error/Uncertainty')\n",
    "plt.ylabel('Probability density')\n",
    "plt.xlim(0, 0.06)\n",
    "plt.legend(loc='upper right', frameon=False, prop={'size': 16})\n",
    "plt.tight_layout()\n",
    "plt.savefig('./Reaction_Error_vs_Uncertainty_marginal.png', dpi = 300)\n",
    "\n"
   ]
  },
  {
   "cell_type": "code",
   "execution_count": null,
   "metadata": {},
   "outputs": [],
   "source": []
  },
  {
   "cell_type": "code",
   "execution_count": 9,
   "metadata": {},
   "outputs": [
    {
     "name": "stdout",
     "output_type": "stream",
     "text": [
      "(1000, 1) (1000, 1)\n"
     ]
    },
    {
     "name": "stderr",
     "output_type": "stream",
     "text": [
      "/usr/local/anaconda3/lib/python3.7/site-packages/ipykernel_launcher.py:23: RuntimeWarning: More than 20 figures have been opened. Figures created through the pyplot interface (`matplotlib.pyplot.figure`) are retained until explicitly closed and may consume too much memory. (To control this warning, see the rcParam `figure.max_open_warning`).\n"
     ]
    }
   ],
   "source": [
    "errors_star = errors / np.max(errors)\n",
    "uncertainty_star = uncertainty / np.max(uncertainty)\n",
    "\n",
    "######## Probability density kernel estimation ########\n",
    "xmin, xmax = errors_star.min(), errors_star.max()\n",
    "X_marginal_1 = np.linspace(xmin, xmax, 100)[:,None]\n",
    "positions_marginal_1 = X_marginal_1.flatten()\n",
    "values_marginal_1 = errors_star.flatten()\n",
    "gkde = stats.gaussian_kde(values_marginal_1)\n",
    "KDE_marginal_1 = gkde.evaluate(positions_marginal_1)\n",
    "\n",
    "\n",
    "xmin, xmax = uncertainty_star.min(), uncertainty_star.max()\n",
    "X_marginal_3 = np.linspace(xmin, xmax, 100)[:,None]\n",
    "positions_marginal_3 = X_marginal_3.flatten()\n",
    "values_marginal_3 = uncertainty_star.flatten()\n",
    "gkde = stats.gaussian_kde(values_marginal_3)\n",
    "KDE_marginal_3 = gkde.evaluate(positions_marginal_3)\n",
    "\n",
    "\n",
    "print(errors_star.shape, uncertainty_star.shape)\n",
    "\n",
    "plt.figure(figsize=(6,5))\n",
    "plt.hist(errors_star.flatten(), bins = 100, density=True, alpha = 0.6, color='blue')\n",
    "plt.hist(uncertainty_star.flatten(), bins = 100, density=True, alpha = 0.6, color='red')\n",
    "plt.plot(X_marginal_1, KDE_marginal_1, 'b-', label = 'Scaled error')\n",
    "plt.plot(X_marginal_3, KDE_marginal_3, 'r-', label = 'Scaled uncertainty')\n",
    "plt.xlabel('Error/Uncertainty',fontsize=13)\n",
    "plt.ylabel('Probability density',fontsize=13)\n",
    "plt.legend(loc='upper right', frameon=False, prop={'size': 16})\n",
    "plt.tight_layout()\n",
    "plt.savefig('./Reaction_Error_vs_Uncertainty_marginal_star.png', dpi = 300)\n",
    "\n"
   ]
  },
  {
   "cell_type": "code",
   "execution_count": null,
   "metadata": {},
   "outputs": [],
   "source": []
  }
 ],
 "metadata": {
  "kernelspec": {
   "display_name": "Python 3",
   "language": "python",
   "name": "python3"
  },
  "language_info": {
   "codemirror_mode": {
    "name": "ipython",
    "version": 3
   },
   "file_extension": ".py",
   "mimetype": "text/x-python",
   "name": "python",
   "nbconvert_exporter": "python",
   "pygments_lexer": "ipython3",
   "version": "3.7.3"
  }
 },
 "nbformat": 4,
 "nbformat_minor": 2
}
